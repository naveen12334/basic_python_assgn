{
 "cells": [
  {
   "cell_type": "markdown",
   "metadata": {},
   "source": [
    "# Assignment 25"
   ]
  },
  {
   "cell_type": "markdown",
   "metadata": {},
   "source": [
    "# Q1: What is the difference between enclosing a list comprehension in square brackets and parentheses?"
   ]
  },
  {
   "cell_type": "markdown",
   "metadata": {},
   "source": [
    "Ans->\n",
    "List Comprehension with square brackets produces list.\n",
    "\n",
    "List Comprehension with parentheses creates generators"
   ]
  },
  {
   "cell_type": "code",
   "execution_count": 1,
   "metadata": {},
   "outputs": [
    {
     "name": "stdout",
     "output_type": "stream",
     "text": [
      "<class 'list'>\n",
      "<class 'tuple'>\n"
     ]
    }
   ],
   "source": [
    "list_comprehension_square_brackets = [1,2,3]\n",
    "list_comprehension_parenthesis = (2,3)\n",
    "print(type(list_comprehension_square_brackets))\n",
    "print(type(list_comprehension_parenthesis))"
   ]
  },
  {
   "cell_type": "markdown",
   "metadata": {},
   "source": [
    "As the type() function returns the datasets 'list_comprehension_square_brackets' & 'list_comprehension_parenthesis' for list and tuples, it is proven so. A few distinctive differentiaiton between lists and tuples are:\n",
    "\n",
    "1. A list is mutable, meaning you can change its contents while tuples are not, meaning once the values are entered and saved, they cannot be changed.\n",
    "\n",
    "        Ex: A list is good for saving employee details like his address, phone number, etc. since they can be changed anytime when an employee wants to make a change. His name, blood group and eye color however can be saved in a tuples since they cannot be changed.\n",
    "\n",
    "2. The other main difference is that a tuple is hashable, meaning that you can use it as a key to a dictionary, among other things but a list cannot do so. "
   ]
  },
  {
   "cell_type": "markdown",
   "metadata": {},
   "source": [
    "# Q2: What is the relationship between generators and iterators?"
   ]
  },
  {
   "cell_type": "markdown",
   "metadata": {},
   "source": [
    "Ans->\n",
    "#### Generators:\n",
    "\n",
    "A python generator function lends us a sequence of values to python iterate on. The following is an example of generators:"
   ]
  },
  {
   "cell_type": "code",
   "execution_count": 2,
   "metadata": {},
   "outputs": [
    {
     "name": "stdout",
     "output_type": "stream",
     "text": [
      "20 18 16 14 12 10 8 6 4 2 "
     ]
    }
   ],
   "source": [
    "def even_num(x):\n",
    "    while(x!=0):\n",
    "        if x%2==0: \n",
    "            yield x\n",
    "        x-=1\n",
    "for i in even_num(20):\n",
    "    print(i,end=\" \")"
   ]
  },
  {
   "cell_type": "markdown",
   "metadata": {},
   "source": [
    "#### Iterators:\n",
    "\n",
    "A Python iterator returns us an iterator object- one value at a time. Let’s take an example of an iterator:"
   ]
  },
  {
   "cell_type": "code",
   "execution_count": 3,
   "metadata": {},
   "outputs": [
    {
     "name": "stdout",
     "output_type": "stream",
     "text": [
      "3\n",
      "4\n",
      "5\n"
     ]
    },
    {
     "ename": "StopIteration",
     "evalue": "",
     "output_type": "error",
     "traceback": [
      "\u001b[1;31m---------------------------------------------------------------------------\u001b[0m",
      "\u001b[1;31mStopIteration\u001b[0m                             Traceback (most recent call last)",
      "\u001b[1;32m<ipython-input-3-ae90b3861319>\u001b[0m in \u001b[0;36m<module>\u001b[1;34m\u001b[0m\n\u001b[0;32m      3\u001b[0m \u001b[0mprint\u001b[0m\u001b[1;33m(\u001b[0m\u001b[0mnext\u001b[0m\u001b[1;33m(\u001b[0m\u001b[0miter_obj\u001b[0m\u001b[1;33m)\u001b[0m\u001b[1;33m)\u001b[0m\u001b[1;33m\u001b[0m\u001b[1;33m\u001b[0m\u001b[0m\n\u001b[0;32m      4\u001b[0m \u001b[0mprint\u001b[0m\u001b[1;33m(\u001b[0m\u001b[0mnext\u001b[0m\u001b[1;33m(\u001b[0m\u001b[0miter_obj\u001b[0m\u001b[1;33m)\u001b[0m\u001b[1;33m)\u001b[0m\u001b[1;33m\u001b[0m\u001b[1;33m\u001b[0m\u001b[0m\n\u001b[1;32m----> 5\u001b[1;33m \u001b[0mprint\u001b[0m\u001b[1;33m(\u001b[0m\u001b[0mnext\u001b[0m\u001b[1;33m(\u001b[0m\u001b[0miter_obj\u001b[0m\u001b[1;33m)\u001b[0m\u001b[1;33m)\u001b[0m\u001b[1;31m# will return an error since it's out of the limit.\u001b[0m\u001b[1;33m\u001b[0m\u001b[1;33m\u001b[0m\u001b[0m\n\u001b[0m",
      "\u001b[1;31mStopIteration\u001b[0m: "
     ]
    }
   ],
   "source": [
    "iter_obj=iter([3,4,5])\n",
    "print(next(iter_obj))\n",
    "print(next(iter_obj))\n",
    "print(next(iter_obj))\n",
    "print(next(iter_obj))# will return an error since it's out of the limit."
   ]
  },
  {
   "cell_type": "markdown",
   "metadata": {},
   "source": [
    "# Q3: What are the signs that a function is a generator function?"
   ]
  },
  {
   "cell_type": "markdown",
   "metadata": {},
   "source": [
    "#### ANS ->\n",
    "\n",
    "Defining generator functions are as easy as defining normal functions (but with yield statements instead of return statements). If a function contains at least one yield statement (it may contain other yield or return statements as well), it becomes a generator function. Both yield and return will return some value from a function."
   ]
  },
  {
   "cell_type": "markdown",
   "metadata": {},
   "source": [
    "# Q4: What is the purpose of a yield statement?"
   ]
  },
  {
   "cell_type": "markdown",
   "metadata": {},
   "source": [
    "#### ANS ->\n",
    "Yield is a keyword that is used to return from a function without destroying the states of its local variable and when the function is called, the execution starts from the last yield statement. Any function that contains a yield keyword is termed a generator. Hence, yield is what makes a generator. The yield keyword in Python is less known off but has a greater utility which one can think of."
   ]
  },
  {
   "cell_type": "code",
   "execution_count": 4,
   "metadata": {},
   "outputs": [
    {
     "name": "stdout",
     "output_type": "stream",
     "text": [
      "Enter the size of the list: 7\n",
      "\tEnter a value:44\n",
      "\tEnter a value:7\n",
      "\tEnter a value:88\n",
      "\tEnter a value:99\n",
      "\tEnter a value:23\n",
      "\tEnter a value:55\n",
      "\tEnter a value:78\n",
      "The original list is : [44, 7, 88, 99, 23, 55, 78]\n",
      "The even numbers in list are :  44 88 78 "
     ]
    }
   ],
   "source": [
    "def print_even(test_list) :\n",
    "    for i in test_list:\n",
    "        if i % 2 == 0:\n",
    "            yield i\n",
    "upper = int(input(\"Enter the size of the list: \"))\n",
    "test_list = [int(input(\"\\tEnter a value:\"))for x in range(upper)]\n",
    "print (\"The original list is : \" +  str(test_list))\n",
    "print (\"The even numbers in list are : \", end = \" \")\n",
    "for j in print_even(test_list):\n",
    "    print (j, end = \" \")"
   ]
  },
  {
   "cell_type": "markdown",
   "metadata": {},
   "source": [
    "# Q5: What is the relationship between map calls and list comprehensions? Make a comparison and contrast between the two."
   ]
  },
  {
   "cell_type": "markdown",
   "metadata": {},
   "source": [
    "#### ANS -> \n",
    "\n",
    "Lets say that we have a function and we want to compute the said function for different values in a single line of code. This is where map() function comes in the picture. \n",
    "\n",
    "###### 1. THE MAP( ) FUNCTION: \n",
    "\n",
    "The map( ) function returns a map object(which is an iterator) of the results after applying the given function to each item of a given iterable (list, tuple etc.)\n",
    "\n",
    "Syntax: map(func_name,iterables)\n",
    "\n",
    "Parameters:\n",
    "\n",
    "1. func_name: It is the name of the function which is already defined and is to be executed for each item. \n",
    "\n",
    "2. iterables: It can be list, tuples or any other iterable object.\n",
    "\n",
    "3. Return Type: Returns a map object after applying the given function to each item of a given iterable (list, tuple etc.)\n",
    "\n",
    "Ex:\n",
    "\n",
    "Let's assume that we want to call function 'num' for each element of lst, we use map creates a map object."
   ]
  },
  {
   "cell_type": "code",
   "execution_count": 5,
   "metadata": {},
   "outputs": [
    {
     "name": "stdout",
     "output_type": "stream",
     "text": [
      "<map object at 0x00000229430F6248>\n",
      "[4, 88, 11.0, 12, -14]\n"
     ]
    }
   ],
   "source": [
    "def num (n) :\n",
    "    return n * 2\n",
    "lst = [2, 44, 5.5, 6, -7]\n",
    "x = map(num, lst) \n",
    "print(x) \n",
    "print(list(x))  "
   ]
  },
  {
   "cell_type": "markdown",
   "metadata": {},
   "source": [
    "###### 1. THE LIST COMPREHENSION:\n",
    "\n",
    "List Comprehension is a substitute for the lambda functions, map(), filter() and reduce(). It follows the form of the mathematical set-builder notation. It provide a concise way to create lists.\n",
    "\n",
    "Syntax:\n",
    "\n",
    "[ expression for item in list if conditional ]\n",
    "\n",
    "Parameters:\n",
    "\n",
    "1. Expression – based on the variable used for each element\n",
    "\n",
    "2. for ..in – ‘for’ followed by the variable name to use, followed by ‘in’ \n",
    "\n",
    "3. if – to filter\n",
    "\n",
    "Ex:\n",
    "\n",
    "A program to double the number using list comprehension."
   ]
  },
  {
   "cell_type": "code",
   "execution_count": 6,
   "metadata": {},
   "outputs": [
    {
     "name": "stdout",
     "output_type": "stream",
     "text": [
      "[4, 88, 11.0, 12, -14]\n"
     ]
    }
   ],
   "source": [
    "lst = [2, 44, 5.5, 6, -7]\n",
    "x = [i * 2 for i in lst ] \n",
    "print(x)"
   ]
  }
 ],
 "metadata": {
  "kernelspec": {
   "display_name": "Python 3",
   "language": "python",
   "name": "python3"
  },
  "language_info": {
   "codemirror_mode": {
    "name": "ipython",
    "version": 3
   },
   "file_extension": ".py",
   "mimetype": "text/x-python",
   "name": "python",
   "nbconvert_exporter": "python",
   "pygments_lexer": "ipython3",
   "version": "3.7.9"
  }
 },
 "nbformat": 4,
 "nbformat_minor": 5
}
