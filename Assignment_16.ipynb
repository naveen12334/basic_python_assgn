{
 "cells": [
  {
   "cell_type": "markdown",
   "metadata": {},
   "source": [
    "# Assignment 16"
   ]
  },
  {
   "cell_type": "markdown",
   "metadata": {},
   "source": [
    "# Q1. Create a list called 'years_list', starting with the year of your birth, and each year thereafter until the year of your fifth birthday. For example, if you were born in 1980. the list would be years_list = [1980, 1981, 1982, 1983, 1984, 1985]."
   ]
  },
  {
   "cell_type": "code",
   "execution_count": 1,
   "metadata": {},
   "outputs": [
    {
     "name": "stdout",
     "output_type": "stream",
     "text": [
      "Enter your birth year:1998\n",
      "Your next five birthdays and your birth year are:  [1998, 1999, 2000, 2001, 2002, 2003]\n"
     ]
    }
   ],
   "source": [
    "#sol->\n",
    "years_list = []\n",
    "birth_year = int(input(\"Enter your birth year:\"))\n",
    "for i in range(6):\n",
    "    years_list.append(birth_year)\n",
    "    birth_year+=1\n",
    "print(\"Your next five birthdays and your birth year are: \",years_list)"
   ]
  },
  {
   "cell_type": "markdown",
   "metadata": {},
   "source": [
    "# Q2. In which year in years_list was your third birthday? Remember, you were 0 years of age for your first year."
   ]
  },
  {
   "cell_type": "code",
   "execution_count": 2,
   "metadata": {},
   "outputs": [
    {
     "name": "stdout",
     "output_type": "stream",
     "text": [
      "Your third birthday would be in 2001\n"
     ]
    }
   ],
   "source": [
    "#sol->\n",
    "print(\"Your third birthday would be in\",years_list[3])"
   ]
  },
  {
   "cell_type": "markdown",
   "metadata": {},
   "source": [
    "# Q3. In the years list, which year were you the oldest?"
   ]
  },
  {
   "cell_type": "code",
   "execution_count": 3,
   "metadata": {},
   "outputs": [
    {
     "name": "stdout",
     "output_type": "stream",
     "text": [
      "You would be the oldest (of the five years in the list)in 2003\n"
     ]
    }
   ],
   "source": [
    "#sol->\n",
    "print(\"You would be the oldest (of the five years in the list)in\",years_list[-1])"
   ]
  },
  {
   "cell_type": "markdown",
   "metadata": {},
   "source": [
    "# Q4. Make a list called 'things' with these three strings as elements: \"mozzarella\", \"cinderella\", \"salmonella\""
   ]
  },
  {
   "cell_type": "code",
   "execution_count": 4,
   "metadata": {},
   "outputs": [
    {
     "name": "stdout",
     "output_type": "stream",
     "text": [
      "The list with the three strings is: ['mozzarella', 'cinderella', 'salmonella']\n"
     ]
    }
   ],
   "source": [
    "#sol->\n",
    "things = [\"mozzarella\", \"cinderella\", \"salmonella\"]\n",
    "print(\"The list with the three strings is:\",things)"
   ]
  },
  {
   "cell_type": "markdown",
   "metadata": {},
   "source": [
    "# Q5. Capitalize the element in things that refers to a person and then print the list. Did it change the element in the list?"
   ]
  },
  {
   "cell_type": "code",
   "execution_count": 5,
   "metadata": {},
   "outputs": [
    {
     "name": "stdout",
     "output_type": "stream",
     "text": [
      "The element in things that refers to a person is CINDERELLA\n"
     ]
    }
   ],
   "source": [
    "#sol->\n",
    "print(\"The element in things that refers to a person is\",things[1].upper())"
   ]
  },
  {
   "cell_type": "code",
   "execution_count": 6,
   "metadata": {},
   "outputs": [],
   "source": [
    "#Checking if the list has changed or not"
   ]
  },
  {
   "cell_type": "code",
   "execution_count": 7,
   "metadata": {},
   "outputs": [
    {
     "name": "stdout",
     "output_type": "stream",
     "text": [
      "['mozzarella', 'cinderella', 'salmonella']\n"
     ]
    }
   ],
   "source": [
    "print(things)"
   ]
  },
  {
   "cell_type": "markdown",
   "metadata": {},
   "source": [
    "Since the list's elements haven't altered due to the capitalization, we can say that the list hasnot been changed. "
   ]
  },
  {
   "cell_type": "markdown",
   "metadata": {},
   "source": [
    "# Q6. Make a list named 'surprise' with the elements \"Groucho,\" \"Chico,\" and \"Harpo.\""
   ]
  },
  {
   "cell_type": "code",
   "execution_count": 10,
   "metadata": {},
   "outputs": [],
   "source": [
    "#sol->\n",
    "surprise = [\"Groucho\",\"Chico\",\"Harpo\"]"
   ]
  },
  {
   "cell_type": "code",
   "execution_count": 11,
   "metadata": {},
   "outputs": [
    {
     "name": "stdout",
     "output_type": "stream",
     "text": [
      "['Groucho', 'Chico', 'Harpo']\n"
     ]
    }
   ],
   "source": [
    "print(surprise)"
   ]
  },
  {
   "cell_type": "markdown",
   "metadata": {},
   "source": [
    "# Q7. Lowercase the last element of the list 'surprise', reverse it, and then capitalize it."
   ]
  },
  {
   "cell_type": "code",
   "execution_count": 12,
   "metadata": {},
   "outputs": [
    {
     "name": "stdout",
     "output_type": "stream",
     "text": [
      "The last element after lowercasing, reversing and capitalizing it are: OPRAH\n"
     ]
    }
   ],
   "source": [
    "#sol->\n",
    "element = surprise[-1].lower()\n",
    "print(\"The last element after lowercasing, reversing and capitalizing it are:\",element[::-1].upper())"
   ]
  },
  {
   "cell_type": "markdown",
   "metadata": {},
   "source": [
    "# Q8. Make an English-to-French dictionary called e2f and print it. Here are your starter words: dog is chien, cat is chat, and walrus is morse."
   ]
  },
  {
   "cell_type": "code",
   "execution_count": 13,
   "metadata": {},
   "outputs": [
    {
     "name": "stdout",
     "output_type": "stream",
     "text": [
      "The English-to-French dictionary called e2f is: {'Dog': 'Chien', 'Cat': 'Chat', 'Walrus': 'Morse'}\n"
     ]
    }
   ],
   "source": [
    "#sol->\n",
    "e2f = {'Dog':'Chien' , 'Cat':'Chat' , 'Walrus':'Morse'}\n",
    "print(\"The English-to-French dictionary called e2f is:\",e2f)"
   ]
  },
  {
   "cell_type": "markdown",
   "metadata": {},
   "source": [
    "# Q9. Write the French word for walrus in your three-word dictionary e2f."
   ]
  },
  {
   "cell_type": "code",
   "execution_count": 14,
   "metadata": {},
   "outputs": [
    {
     "name": "stdout",
     "output_type": "stream",
     "text": [
      "The French word for walrus the dictionary is - Morse\n"
     ]
    }
   ],
   "source": [
    "#sol->\n",
    "print(\"The French word for walrus the dictionary is -\",list(e2f.values())[-1])"
   ]
  },
  {
   "cell_type": "markdown",
   "metadata": {},
   "source": [
    "# Q10. Make a French-to-English dictionary called f2e from e2f. Use the items method."
   ]
  },
  {
   "cell_type": "code",
   "execution_count": 15,
   "metadata": {},
   "outputs": [
    {
     "name": "stdout",
     "output_type": "stream",
     "text": [
      "{'Chien': 'Dog', 'Chat': 'Cat', 'Morse': 'Walrus'}\n"
     ]
    }
   ],
   "source": [
    "#sol->\n",
    "f2e = {}\n",
    "for val,key in e2f.items():\n",
    "    f2e[key] = val\n",
    "print(f2e)"
   ]
  },
  {
   "cell_type": "markdown",
   "metadata": {},
   "source": [
    "# Q11. Print the English version of the French word chien using f2e."
   ]
  },
  {
   "cell_type": "code",
   "execution_count": 16,
   "metadata": {},
   "outputs": [
    {
     "name": "stdout",
     "output_type": "stream",
     "text": [
      "1. Chien in French is Dog in English.\n",
      "2. Chat in French is Cat in English.\n",
      "3. Morse in French is Walrus in English.\n"
     ]
    }
   ],
   "source": [
    "#sol->\n",
    "i = 1\n",
    "for val,key in f2e.items():\n",
    "    print(str(i)+str(\".\"),val,\"in French is\",key,\"in English.\")\n",
    "    i+=1"
   ]
  },
  {
   "cell_type": "markdown",
   "metadata": {},
   "source": [
    "# Q12. Make and print a set of English words from the keys in e2f."
   ]
  },
  {
   "cell_type": "code",
   "execution_count": 17,
   "metadata": {},
   "outputs": [
    {
     "name": "stdout",
     "output_type": "stream",
     "text": [
      "All the English words in the dictionary are: ['Dog', 'Cat', 'Walrus']\n"
     ]
    }
   ],
   "source": [
    "#sol->\n",
    "print(\"All the English words in the dictionary are:\",list(f2e.values()))"
   ]
  },
  {
   "cell_type": "markdown",
   "metadata": {},
   "source": [
    "# Q13. Make a multilevel dictionary called life. Use these strings for the topmost keys: 'animals', 'plants', and 'other'. Make the 'animals' key refer to another dictionary with the keys 'cats', 'octopi', and 'emus'. Make the 'cats' key refer to a list of strings with the values 'Henri', 'Grumpy', and 'Lucy'. Make all the other keys refer to empty dictionaries."
   ]
  },
  {
   "cell_type": "code",
   "execution_count": 18,
   "metadata": {},
   "outputs": [
    {
     "name": "stdout",
     "output_type": "stream",
     "text": [
      "The dictionary, 'life' is:\n",
      " {'animals': {'cats': ['Henri', 'Grumpy', 'Lucy'], 'octopi': '', 'emus': ''}, 'plants': '', 'other': ''}\n"
     ]
    }
   ],
   "source": [
    "#sol->\n",
    "life = {'animals': {'cats': ['Henri', 'Grumpy', 'Lucy'],'octopi': '','emus': '',},\n",
    "    'plants': '',\n",
    "    'other': ''\n",
    "    }\n",
    "print(\"The dictionary, 'life' is:\\n\",life)"
   ]
  },
  {
   "cell_type": "markdown",
   "metadata": {},
   "source": [
    "# Q14. Print the top-level keys of life."
   ]
  },
  {
   "cell_type": "code",
   "execution_count": 20,
   "metadata": {},
   "outputs": [
    {
     "name": "stdout",
     "output_type": "stream",
     "text": [
      "All the top level keys in the dictionary 'life' are:\n",
      " ['animals', 'plants', 'other']\n"
     ]
    }
   ],
   "source": [
    "#sol->\n",
    "print(\"All the top level keys in the dictionary 'life' are:\\n\",list(life.keys()))"
   ]
  },
  {
   "cell_type": "markdown",
   "metadata": {},
   "source": [
    "# Q15. Print the keys for life['animals']."
   ]
  },
  {
   "cell_type": "code",
   "execution_count": 21,
   "metadata": {},
   "outputs": [
    {
     "name": "stdout",
     "output_type": "stream",
     "text": [
      "The keys in 'animals' are: \n",
      "cats octopi emus "
     ]
    }
   ],
   "source": [
    "#sol->\n",
    "print(\"The keys in 'animals' are: \")\n",
    "for key in life[\"animals\"]:\n",
    "    print(key,end=\" \")"
   ]
  },
  {
   "cell_type": "markdown",
   "metadata": {},
   "source": [
    "# Q16. Print the values for life['animals']['cats']"
   ]
  },
  {
   "cell_type": "code",
   "execution_count": 22,
   "metadata": {},
   "outputs": [
    {
     "name": "stdout",
     "output_type": "stream",
     "text": [
      "The data in 'cat's is: ['Henri', 'Grumpy', 'Lucy']\n"
     ]
    }
   ],
   "source": [
    "#sol->\n",
    "print(\"The data in 'cat's is:\",life['animals']['cats'])"
   ]
  }
 ],
 "metadata": {
  "kernelspec": {
   "display_name": "Python 3",
   "language": "python",
   "name": "python3"
  },
  "language_info": {
   "codemirror_mode": {
    "name": "ipython",
    "version": 3
   },
   "file_extension": ".py",
   "mimetype": "text/x-python",
   "name": "python",
   "nbconvert_exporter": "python",
   "pygments_lexer": "ipython3",
   "version": "3.7.9"
  }
 },
 "nbformat": 4,
 "nbformat_minor": 4
}
